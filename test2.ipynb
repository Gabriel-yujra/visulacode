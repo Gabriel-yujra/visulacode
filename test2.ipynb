{
 "cells": [
  {
   "cell_type": "code",
   "execution_count": 2,
   "metadata": {},
   "outputs": [],
   "source": [
    "y = 10"
   ]
  },
  {
   "cell_type": "code",
   "execution_count": 3,
   "metadata": {},
   "outputs": [
    {
     "data": {
      "text/plain": [
       "10"
      ]
     },
     "execution_count": 3,
     "metadata": {},
     "output_type": "execute_result"
    }
   ],
   "source": [
    "y"
   ]
  },
  {
   "cell_type": "code",
   "execution_count": 5,
   "metadata": {},
   "outputs": [
    {
     "ename": "ModuleNotFoundError",
     "evalue": "No module named 'matplotlib'",
     "output_type": "error",
     "traceback": [
      "\u001b[1;31m---------------------------------------------------------------------------\u001b[0m",
      "\u001b[1;31mModuleNotFoundError\u001b[0m                       Traceback (most recent call last)",
      "\u001b[1;32mf:\\visual sc\\test2.ipynb Cell 3\u001b[0m line \u001b[0;36m2\n\u001b[0;32m      <a href='vscode-notebook-cell:/f%3A/visual%20sc/test2.ipynb#W2sZmlsZQ%3D%3D?line=0'>1</a>\u001b[0m \u001b[39mimport\u001b[39;00m \u001b[39mnumpy\u001b[39;00m \u001b[39mas\u001b[39;00m \u001b[39mnp\u001b[39;00m\n\u001b[1;32m----> <a href='vscode-notebook-cell:/f%3A/visual%20sc/test2.ipynb#W2sZmlsZQ%3D%3D?line=1'>2</a>\u001b[0m \u001b[39mimport\u001b[39;00m \u001b[39mmatplotlib\u001b[39;00m\u001b[39m.\u001b[39;00m\u001b[39mpyplot\u001b[39;00m \u001b[39mas\u001b[39;00m \u001b[39mplt\u001b[39;00m\n\u001b[0;32m      <a href='vscode-notebook-cell:/f%3A/visual%20sc/test2.ipynb#W2sZmlsZQ%3D%3D?line=2'>3</a>\u001b[0m \u001b[39mfrom\u001b[39;00m \u001b[39mscipy\u001b[39;00m\u001b[39m.\u001b[39;00m\u001b[39mstats\u001b[39;00m \u001b[39mimport\u001b[39;00m norm\n\u001b[0;32m      <a href='vscode-notebook-cell:/f%3A/visual%20sc/test2.ipynb#W2sZmlsZQ%3D%3D?line=4'>5</a>\u001b[0m x \u001b[39m=\u001b[39m np\u001b[39m.\u001b[39marange(\u001b[39m-\u001b[39m\u001b[39m2.9\u001b[39m, \u001b[39m2.9\u001b[39m, \u001b[39m0.001\u001b[39m)\n",
      "\u001b[1;31mModuleNotFoundError\u001b[0m: No module named 'matplotlib'"
     ]
    }
   ],
   "source": [
    "import numpy as np\n",
    "import matplotlib.pyplot as plt\n",
    "from scipy.stats import norm\n",
    "\n",
    "x = np.arange(-2.9, 2.9, 0.001)\n",
    "\n",
    "#pintar el fondo externo del grafico\n",
    "plt.figure(facecolor='#D4F8B7')\n",
    "\n",
    "\n",
    "#tamaño del grafico\n",
    "#plt.figure(figsize=(6,4))\n",
    "\n",
    "\n",
    "#area de sombreado rango\n",
    "x_filtered = x[(x >= -0.50) & (x <= 1.25)]\n",
    "\n",
    "#pintar la linea curva del grafico\n",
    "plt.plot(x, norm.pdf(x, 0, 1), linewidth = 2, color = '#000')\n",
    "\n",
    "#pintar el area sombreada del grafico y graficar \n",
    "plt.fill_between(x_filtered, norm.pdf(x_filtered, 0, 1), color='#5CCB5F', alpha=0.5, edgecolor='black')\n",
    "\n",
    "#añadir texto al grafico\n",
    "plt.text(-2.8, 0.20, (\"P(z < -0.50)\"))\n",
    "plt.text(3, 0, (\"z\"))\n",
    "\n",
    "#bordes del grafico\n",
    "ax = plt.gca()\n",
    "ax.spines['top'].set_color('#009929')\n",
    "ax.spines['top'].set_linewidth(2)\n",
    "#ancho del borde superior\n",
    "ax.spines['top'].set_bounds(-4.5, 4.5)\n",
    "ax.spines['bottom'].set_color('#009929')\n",
    "ax.spines['bottom'].set_linewidth(2)\n",
    "#ancho del borde inferior\n",
    "ax.spines['bottom'].set_bounds(-4.5, 4.5)\n",
    "ax.spines['right'].set_visible(False)\n",
    "ax.spines['left'].set_visible(False)\n",
    "\n",
    "#pintar el fondo interno del grafico\n",
    "ax.set_facecolor('#D4F8B7')\n",
    "\n",
    "#linea inferior del grafico\n",
    "plt.plot(x, [0]*len(x), color='black', linewidth=2)\n",
    "\n",
    "#centrar el grafico\n",
    "plt.subplots_adjust(left=0.1, right=0.9, top=0.9, bottom=0.1)\n",
    "\n",
    "#plt.arrow(0.1, 0.1, 0.2, 0.2, width=0.05, color='black')\n",
    "\n",
    "#flecha\n",
    "plt.annotate(\" \", xytext = (-2, 0.2), xy = (-1, 0.05), arrowprops = dict(facecolor = 'black', width = 0.2, headwidth = 8),\n",
    "             horizontalalignment = 'center')\n",
    "\n",
    "#texto con flecha\n",
    "plt.annotate(\"P(-0.50 \\u2264 z \\u2264 1.25)\", xytext = (2.5, 0.25), \n",
    "             xy = (0.5, 0.15), arrowprops = dict(facecolor = 'black', width = 0.2, headwidth = 8),\n",
    "             horizontalalignment = 'center')\n",
    "\n",
    "#mostrar ejes x, y\n",
    "plt.xticks([-0.50, 0, 1.25])\n",
    "plt.yticks([])\n",
    "plt.show()"
   ]
  }
 ],
 "metadata": {
  "kernelspec": {
   "display_name": "Python 3",
   "language": "python",
   "name": "python3"
  },
  "language_info": {
   "codemirror_mode": {
    "name": "ipython",
    "version": 3
   },
   "file_extension": ".py",
   "mimetype": "text/x-python",
   "name": "python",
   "nbconvert_exporter": "python",
   "pygments_lexer": "ipython3",
   "version": "3.10.2"
  }
 },
 "nbformat": 4,
 "nbformat_minor": 2
}
